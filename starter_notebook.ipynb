{
  "cells": [
    {
      "cell_type": "markdown",
      "metadata": {
        "id": "view-in-github",
        "colab_type": "text"
      },
      "source": [
        "<a href=\"https://colab.research.google.com/github/AzizKazi/weatherwise-Aziz-kazi/blob/main/starter_notebook.ipynb\" target=\"_parent\"><img src=\"https://colab.research.google.com/assets/colab-badge.svg\" alt=\"Open In Colab\"/></a>"
      ]
    },
    {
      "cell_type": "code",
      "execution_count": 1,
      "id": "70c3f3f1",
      "metadata": {
        "id": "70c3f3f1",
        "outputId": "caf29f59-e6d6-4a2b-ebeb-5f7cb25f75cb",
        "colab": {
          "base_uri": "https://localhost:8080/"
        }
      },
      "outputs": [
        {
          "output_type": "stream",
          "name": "stdout",
          "text": [
            "Requirement already satisfied: pyinputplus in /usr/local/lib/python3.12/dist-packages (0.2.12)\n",
            "Requirement already satisfied: matplotlib in /usr/local/lib/python3.12/dist-packages (3.10.0)\n",
            "Requirement already satisfied: requests in /usr/local/lib/python3.12/dist-packages (2.32.4)\n",
            "Requirement already satisfied: pysimplevalidate>=0.2.7 in /usr/local/lib/python3.12/dist-packages (from pyinputplus) (0.2.12)\n",
            "Requirement already satisfied: stdiomask>=0.0.3 in /usr/local/lib/python3.12/dist-packages (from pyinputplus) (0.0.6)\n",
            "Requirement already satisfied: contourpy>=1.0.1 in /usr/local/lib/python3.12/dist-packages (from matplotlib) (1.3.3)\n",
            "Requirement already satisfied: cycler>=0.10 in /usr/local/lib/python3.12/dist-packages (from matplotlib) (0.12.1)\n",
            "Requirement already satisfied: fonttools>=4.22.0 in /usr/local/lib/python3.12/dist-packages (from matplotlib) (4.60.1)\n",
            "Requirement already satisfied: kiwisolver>=1.3.1 in /usr/local/lib/python3.12/dist-packages (from matplotlib) (1.4.9)\n",
            "Requirement already satisfied: numpy>=1.23 in /usr/local/lib/python3.12/dist-packages (from matplotlib) (2.0.2)\n",
            "Requirement already satisfied: packaging>=20.0 in /usr/local/lib/python3.12/dist-packages (from matplotlib) (25.0)\n",
            "Requirement already satisfied: pillow>=8 in /usr/local/lib/python3.12/dist-packages (from matplotlib) (11.3.0)\n",
            "Requirement already satisfied: pyparsing>=2.3.1 in /usr/local/lib/python3.12/dist-packages (from matplotlib) (3.2.5)\n",
            "Requirement already satisfied: python-dateutil>=2.7 in /usr/local/lib/python3.12/dist-packages (from matplotlib) (2.9.0.post0)\n",
            "Requirement already satisfied: charset_normalizer<4,>=2 in /usr/local/lib/python3.12/dist-packages (from requests) (3.4.4)\n",
            "Requirement already satisfied: idna<4,>=2.5 in /usr/local/lib/python3.12/dist-packages (from requests) (3.11)\n",
            "Requirement already satisfied: urllib3<3,>=1.21.1 in /usr/local/lib/python3.12/dist-packages (from requests) (2.5.0)\n",
            "Requirement already satisfied: certifi>=2017.4.17 in /usr/local/lib/python3.12/dist-packages (from requests) (2025.10.5)\n",
            "Requirement already satisfied: six>=1.5 in /usr/local/lib/python3.12/dist-packages (from python-dateutil>=2.7->matplotlib) (1.17.0)\n"
          ]
        }
      ],
      "source": [
        "!pip install pyinputplus matplotlib requests"
      ]
    },
    {
      "cell_type": "markdown",
      "id": "59ae7543",
      "metadata": {
        "id": "59ae7543"
      },
      "source": [
        "\n",
        "Import required packages"
      ]
    },
    {
      "cell_type": "code",
      "execution_count": 2,
      "id": "f1dd051e",
      "metadata": {
        "id": "f1dd051e"
      },
      "outputs": [],
      "source": [
        "import os\n",
        "import requests\n",
        "import matplotlib.pyplot as plt\n",
        "import pyinputplus as pyip"
      ]
    },
    {
      "cell_type": "markdown",
      "id": "f736ade3",
      "metadata": {
        "id": "f736ade3"
      },
      "source": [
        "## 🌤️ Weather Data Functions to fetch weather details\n"
      ]
    },
    {
      "cell_type": "code",
      "execution_count": 3,
      "id": "7a2c7cd0",
      "metadata": {
        "id": "7a2c7cd0"
      },
      "outputs": [],
      "source": [
        "def get_weather_data(city, days=3):\n",
        "    \"\"\"\n",
        "    Fetches weather forecast json data for the given city and days from wttr.in API.\n",
        "    \"\"\"\n",
        "    api_url = f\"https://wttr.in/{city}?format=j1\"\n",
        "    try:\n",
        "        response = requests.get(api_url)\n",
        "        response.raise_for_status()\n",
        "        data = response.json()\n",
        "        data['weather'] = data['weather'][:days]\n",
        "        return data\n",
        "    except Exception as e:\n",
        "        print(f\"Failed to retrieve weather data: {e}\")\n",
        "        return None"
      ]
    },
    {
      "cell_type": "markdown",
      "id": "8a744fdc",
      "metadata": {
        "id": "8a744fdc"
      },
      "source": [
        "## 📊 Visualisation Functions"
      ]
    },
    {
      "cell_type": "markdown",
      "source": [
        "function to display maximum and minimum temperature"
      ],
      "metadata": {
        "id": "KMT1M0ChLKnL"
      },
      "id": "KMT1M0ChLKnL"
    },
    {
      "cell_type": "code",
      "execution_count": 4,
      "id": "9dc3bf85",
      "metadata": {
        "id": "9dc3bf85"
      },
      "outputs": [],
      "source": [
        "def create_temperature_visualisation(data, show_or_return='display'):\n",
        "    \"\"\"\n",
        "    Shows a temperature plot with a different style: bar + dotted line plot.\n",
        "    \"\"\"\n",
        "    date_labels = []\n",
        "    high_vals = []\n",
        "    low_vals = []\n",
        "\n",
        "    for day in data['weather']:\n",
        "        date_labels.append(day['date'])\n",
        "        high_vals.append(float(day['maxtempC']))\n",
        "        low_vals.append(float(day['mintempC']))\n",
        "\n",
        "    plt.ion()\n",
        "    fig, ax = plt.subplots()\n",
        "    ax.bar(date_labels, high_vals, color='purple', alpha=0.7, label='Max Temp (°C)')\n",
        "    ax.plot(date_labels, low_vals, color='brown', marker='d', linestyle=':', label='Min Temp (°C)')\n",
        "    ax.set_title(\"Daily Temperature Overview\")\n",
        "    ax.set_xlabel(\"Date\")\n",
        "    ax.set_ylabel(\"Temperature (°C)\")\n",
        "    ax.legend()\n",
        "    plt.grid(True)\n",
        "\n",
        "    plt.show()\n",
        "    plt.pause(0.1)\n",
        "    plt.close(fig)\n",
        "    plt.ioff()"
      ]
    },
    {
      "cell_type": "code",
      "source": [
        "def create_precipitation_visulisation(data, show_or_return='display'):\n",
        "    \"\"\"\n",
        "    Visualizes daily rainfall using horizontal bars with a distinct color scheme.\n",
        "    \"\"\"\n",
        "    dates = [d['date'] for d in data['weather']]\n",
        "    rain_vals = [sum(float(h['precipMM']) for h in d['hourly']) for d in data['weather']]\n",
        "    max_rain = max(rain_vals) if rain_vals else 1\n",
        "    alpha_values = [v / max_rain for v in rain_vals]\n",
        "\n",
        "    fig, ax = plt.subplots()\n",
        "    ax.barh(dates, rain_vals, color=[(1, 0.6, 0, a) for a in alpha_values])\n",
        "    ax.set_title(\"Daily Rainfall Heatmap\")\n",
        "    ax.set_xlabel(\"Rain (mm)\")\n",
        "    ax.set_ylabel(\"Date\")\n",
        "    plt.grid(True)\n",
        "\n",
        "    if show_or_return == 'figure':\n",
        "        return fig\n",
        "    else:\n",
        "        plt.show()\n",
        "        plt.pause(0.1)\n",
        "        plt.close(fig)\n",
        "        plt.ioff()\n"
      ],
      "metadata": {
        "id": "HpOlQylYG5Ho"
      },
      "id": "HpOlQylYG5Ho",
      "execution_count": 5,
      "outputs": []
    },
    {
      "cell_type": "code",
      "source": [
        "def create_windspeed_visulisation(data, show_or_return='display'):\n",
        "    \"\"\"\n",
        "    Displays wind speed via line plot with scatter points of midday winds.\n",
        "    \"\"\"\n",
        "    days = []\n",
        "    peak_wind = []\n",
        "    noon_wind = []\n",
        "\n",
        "    for day in data['weather']:\n",
        "        days.append(day['date'])\n",
        "        peak_wind.append(max(float(hour['windspeedKmph']) for hour in day['hourly']))\n",
        "        # noon wind speed roughly middle of day hours (index 6 of 12 hours)\n",
        "        noon_wind.append(float(day['hourly'][6]['windspeedKmph']))\n",
        "\n",
        "    fig, ax = plt.subplots()\n",
        "    ax.plot(days, peak_wind, color='navy', marker='p', linestyle='-', label='Peak Wind (km/h)')\n",
        "    ax.scatter(days, noon_wind, color='red', label='Noon Wind Speed', s=60)\n",
        "    ax.set_title(\"Wind Speed Analysis\")\n",
        "    ax.set_xlabel(\"Date\")\n",
        "    ax.set_ylabel(\"Speed (km/h)\")\n",
        "    ax.legend()\n",
        "    plt.grid(True)\n",
        "\n",
        "    if show_or_return == 'figure':\n",
        "        return fig\n",
        "    else:\n",
        "        plt.show()\n",
        "        plt.pause(0.1)\n",
        "        plt.close(fig)\n",
        "        plt.ioff()"
      ],
      "metadata": {
        "id": "cwQ9PgkHTHjP"
      },
      "id": "cwQ9PgkHTHjP",
      "execution_count": 6,
      "outputs": []
    },
    {
      "cell_type": "markdown",
      "id": "9f95d160",
      "metadata": {
        "id": "9f95d160"
      },
      "source": [
        "## 🤖 Natural Language Processing"
      ]
    },
    {
      "cell_type": "code",
      "execution_count": 7,
      "id": "bcc5833e",
      "metadata": {
        "id": "bcc5833e"
      },
      "outputs": [],
      "source": [
        "def parse_weather_question(user_q):\n",
        "    \"\"\"\n",
        "    Extract important keywords for weather questions.\n",
        "    \"\"\"\n",
        "    user_q = user_q.lower()\n",
        "    weather_features = ['temperature', 'rain', 'precipitation', 'humidity', 'wind']\n",
        "    days_terms = ['today', 'tomorrow', 'day after tomorrow']\n",
        "    city_name, key_feature, day_term = None, None, 'today'\n",
        "\n",
        "    for f in weather_features:\n",
        "        if f in user_q:\n",
        "            key_feature = f\n",
        "            break\n",
        "    for t in days_terms:\n",
        "        if t in user_q:\n",
        "            day_term = t\n",
        "            break\n",
        "\n",
        "    tokens = user_q.split()\n",
        "    if 'in' in tokens:\n",
        "        pos = tokens.index('in')\n",
        "        if pos + 1 < len(tokens):\n",
        "            city_name = tokens[pos + 1]\n",
        "    else:\n",
        "        city_name = 'Sydney'\n",
        "\n",
        "    return {'location': city_name, 'attribute': key_feature, 'time_period': day_term}\n"
      ]
    },
    {
      "cell_type": "markdown",
      "id": "d643a53c",
      "metadata": {
        "id": "d643a53c"
      },
      "source": [
        "## 🧩 Main Application Logic"
      ]
    },
    {
      "cell_type": "code",
      "execution_count": 8,
      "id": "a9e2e805",
      "metadata": {
        "id": "a9e2e805"
      },
      "outputs": [],
      "source": [
        "# Tie everything together here\n",
        "def generate_weather_response(parsed_q, weather):\n",
        "    \"\"\"\n",
        "    Create readable response text from a parsed question and weather data.\n",
        "    \"\"\"\n",
        "    loc = parsed_q['location']\n",
        "    attr = parsed_q['attribute']\n",
        "    time_p = parsed_q['time_period']\n",
        "    day_index = 0\n",
        "    if time_p == 'tomorrow':\n",
        "        day_index = 1\n",
        "    elif time_p == 'day after tomorrow':\n",
        "        day_index = 2\n",
        "\n",
        "    try:\n",
        "        single_day = weather['weather'][day_index]\n",
        "        if attr in ['temperature', None]:\n",
        "            max_t = single_day['maxtempC']\n",
        "            min_t = single_day['mintempC']\n",
        "            return f\"In {loc.title()} on {single_day['date']}, temperatures range from {min_t}°C to {max_t}°C.\"\n",
        "        elif attr in ['rain', 'precipitation']:\n",
        "            rain_amount = sum(float(h['precipMM']) for h in single_day['hourly'])\n",
        "            return f\"In {loc.title()} on {single_day['date']}, expected rainfall is {rain_amount:.1f} mm.\"\n",
        "        elif attr == 'humidity':\n",
        "            humidity_lvl = single_day['hourly'][0]['humidity']\n",
        "            return f\"In {loc.title()} on {single_day['date']}, humidity will be about {humidity_lvl}%.\"\n",
        "        elif attr == 'wind':\n",
        "            wind_spd = single_day['hourly'][0]['windspeedKmph']\n",
        "            return f\"In {loc.title()} on {single_day['date']}, wind speed forecast is {wind_spd} km/h.\"\n",
        "        else:\n",
        "            return \"Sorry, I couldn't understand that weather attribute.\"\n",
        "    except Exception as err:\n",
        "        return f\"Sorry, weather data retrieval error: {err}\"\n"
      ]
    },
    {
      "cell_type": "markdown",
      "id": "0d85225e",
      "metadata": {
        "id": "0d85225e"
      },
      "source": [
        "## 🧭 User Interface"
      ]
    },
    {
      "cell_type": "code",
      "execution_count": 9,
      "id": "fa6cb0f6",
      "metadata": {
        "id": "fa6cb0f6",
        "outputId": "9cf65221-5998-4508-b94c-0b3141315778",
        "colab": {
          "base_uri": "https://localhost:8080/",
          "height": 1000
        }
      },
      "outputs": [
        {
          "name": "stdout",
          "output_type": "stream",
          "text": [
            "\n",
            "=== Weather Menu ===\n",
            "1. Report  2. Ask  3. Temp  4. Rain  5. Wind  6. Exit\n",
            "Choose (1-6): 1\n",
            "City: perth\n",
            "In Perth on 2025-10-19, temperatures range from 13°C to 19°C.\n",
            "\n",
            "=== Weather Menu ===\n",
            "1. Report  2. Ask  3. Temp  4. Rain  5. Wind  6. Exit\n",
            "Choose (1-6): 3\n",
            "City: perth\n"
          ]
        },
        {
          "output_type": "display_data",
          "data": {
            "text/plain": [
              "<Figure size 640x480 with 1 Axes>"
            ],
            "image/png": "[encoded data removed]"
          },
          "metadata": {}
        },
        {
          "name": "stdout",
          "output_type": "stream",
          "text": [
            "\n",
            "=== Weather Menu ===\n",
            "1. Report  2. Ask  3. Temp  4. Rain  5. Wind  6. Exit\n",
            "Choose (1-6): 4\n",
            "City: perth\n"
          ]
        },
        {
          "output_type": "display_data",
          "data": {
            "text/plain": [
              "<Figure size 640x480 with 1 Axes>"
            ],
            "image/png": "[encoded data removed]"
          },
          "metadata": {}
        },
        {
          "name": "stdout",
          "output_type": "stream",
          "text": [
            "\n",
            "=== Weather Menu ===\n",
            "1. Report  2. Ask  3. Temp  4. Rain  5. Wind  6. Exit\n",
            "Choose (1-6): 5\n",
            "City: perth\n"
          ]
        },
        {
          "output_type": "display_data",
          "data": {
            "text/plain": [
              "<Figure size 640x480 with 1 Axes>"
            ],
            "image/png": "[encoded data removed]"
          },
          "metadata": {}
        },
        {
          "output_type": "stream",
          "name": "stdout",
          "text": [
            "\n",
            "=== Weather Menu ===\n",
            "1. Report  2. Ask  3. Temp  4. Rain  5. Wind  6. Exit\n",
            "Choose (1-6): 6\n",
            "stay weather-aware!\n"
          ]
        }
      ],
      "source": [
        "def weather_app_menu():\n",
        "    \"\"\"Compact menu for the weather app.\"\"\"\n",
        "    while True:\n",
        "        print(\"\\n=== Weather Menu ===\")\n",
        "        print(\"1. Report  2. Ask  3. Temp  4. Rain  5. Wind  6. Exit\")\n",
        "\n",
        "        option = pyip.inputChoice(['1','2','3','4','5','6'], prompt=\"Choose (1-6): \")\n",
        "\n",
        "        if option == '6':\n",
        "            print(\"stay weather-aware!\")\n",
        "            break\n",
        "\n",
        "        city = pyip.inputStr(prompt=\"City: \")\n",
        "        weather_info = get_weather_data(city, days=3)\n",
        "\n",
        "        if not weather_info:\n",
        "            print(\"⚠️ Data unavailable. Try again later.\")\n",
        "            continue\n",
        "\n",
        "        if option == '1':\n",
        "            print(generate_weather_response({'location': city, 'attribute': None, 'time_period': 'today'}, weather_info))\n",
        "        elif option == '2':\n",
        "            question = pyip.inputStr(prompt=\"Your question: \")\n",
        "            parsed = parse_weather_question(question)\n",
        "            parsed['location'] = city\n",
        "            print(generate_weather_response(parsed, weather_info))\n",
        "        elif option == '3':\n",
        "            create_temperature_visualisation(weather_info)\n",
        "        elif option == '4':\n",
        "            create_precipitation_visulisation(weather_info)\n",
        "        elif option == '5':\n",
        "            create_windspeed_visulisation(weather_info)\n",
        "\n",
        "if __name__ == \"__main__\":\n",
        "    weather_app_menu()"
      ]
    },
    {
      "cell_type": "markdown",
      "id": "fde44479",
      "metadata": {
        "id": "fde44479"
      },
      "source": [
        "## 🧪 Testing and Examples"
      ]
    },
    {
      "cell_type": "code",
      "execution_count": 10,
      "id": "4e573901",
      "metadata": {
        "id": "4e573901",
        "colab": {
          "base_uri": "https://localhost:8080/",
          "height": 216
        },
        "outputId": "c60cf861-c514-4e37-fa30-2f6951269449"
      },
      "outputs": [
        {
          "output_type": "error",
          "ename": "NameError",
          "evalue": "name 'responses' is not defined",
          "traceback": [
            "\u001b[0;31m---------------------------------------------------------------------------\u001b[0m",
            "\u001b[0;31mNameError\u001b[0m                                 Traceback (most recent call last)",
            "\u001b[0;32m/tmp/ipython-input-1959535669.py\u001b[0m in \u001b[0;36m<cell line: 0>\u001b[0;34m()\u001b[0m\n\u001b[1;32m     21\u001b[0m     \u001b[0;32massert\u001b[0m \u001b[0mresult\u001b[0m\u001b[0;34m[\u001b[0m\u001b[0;34m'weather'\u001b[0m\u001b[0;34m]\u001b[0m\u001b[0;34m[\u001b[0m\u001b[0;36m0\u001b[0m\u001b[0;34m]\u001b[0m\u001b[0;34m[\u001b[0m\u001b[0;34m'date'\u001b[0m\u001b[0;34m]\u001b[0m \u001b[0;34m==\u001b[0m \u001b[0;34m'2025-10-16'\u001b[0m\u001b[0;34m\u001b[0m\u001b[0;34m\u001b[0m\u001b[0m\n\u001b[1;32m     22\u001b[0m \u001b[0;34m\u001b[0m\u001b[0m\n\u001b[0;32m---> 23\u001b[0;31m \u001b[0;34m@\u001b[0m\u001b[0mresponses\u001b[0m\u001b[0;34m.\u001b[0m\u001b[0mactivate\u001b[0m\u001b[0;34m\u001b[0m\u001b[0;34m\u001b[0m\u001b[0m\n\u001b[0m\u001b[1;32m     24\u001b[0m \u001b[0;32mdef\u001b[0m \u001b[0mtest_get_weather_data_network_error\u001b[0m\u001b[0;34m(\u001b[0m\u001b[0;34m)\u001b[0m\u001b[0;34m:\u001b[0m\u001b[0;34m\u001b[0m\u001b[0;34m\u001b[0m\u001b[0m\n\u001b[1;32m     25\u001b[0m     \u001b[0;31m# Simulate a network error on any GET call\u001b[0m\u001b[0;34m\u001b[0m\u001b[0;34m\u001b[0m\u001b[0m\n",
            "\u001b[0;31mNameError\u001b[0m: name 'responses' is not defined"
          ]
        }
      ],
      "source": [
        "def test_get_weather_data_success():\n",
        "    payload = {\n",
        "        'weather': [\n",
        "            {'date': '2025-10-16', 'maxtempC': '25', 'mintempC': '15', 'hourly': [{'precipMM': '0'}]*8},\n",
        "            {'date': '2025-10-17', 'maxtempC': '22', 'mintempC': '13', 'hourly': [{'precipMM': '1'}]*8},\n",
        "            {'date': '2025-10-18', 'maxtempC': '20', 'mintempC': '12', 'hourly': [{'precipMM': '2'}]*8},\n",
        "        ]\n",
        "    }\n",
        "\n",
        "    # Match any GET URL your fetch_weather builds:\n",
        "    responses.add(\n",
        "        responses.GET,\n",
        "        re.compile(r\".*\"),\n",
        "        json=payload,\n",
        "        status=200,\n",
        "    )\n",
        "\n",
        "    result = fetch_weather('Perth', 3)\n",
        "    assert result is not None\n",
        "    assert len(result['weather']) == 3\n",
        "    assert result['weather'][0]['date'] == '2025-10-16'\n",
        "\n",
        "@responses.activate\n",
        "def test_get_weather_data_network_error():\n",
        "    # Simulate a network error on any GET call\n",
        "    responses.add(\n",
        "        responses.GET,\n",
        "        re.compile(r\".*\"),\n",
        "        body=requests.exceptions.ConnectionError(\"Network error\"),\n",
        "    )\n",
        "\n",
        "    result = fetch_weather('Perth', 3)\n",
        "    assert result is None"
      ]
    },
    {
      "cell_type": "markdown",
      "id": "d2885880",
      "metadata": {
        "id": "d2885880"
      },
      "source": [
        "## 🗂️ AI Prompting Log (Optional)\n",
        "Add markdown cells here summarising prompts used or link to AI conversations in the `ai-conversations/` folder."
      ]
    }
  ],
  "metadata": {
    "language_info": {
      "name": "python"
    },
    "colab": {
      "provenance": [],
      "include_colab_link": true
    },
    "kernelspec": {
      "name": "python3",
      "display_name": "Python 3"
    }
  },
  "nbformat": 4,
  "nbformat_minor": 5
}