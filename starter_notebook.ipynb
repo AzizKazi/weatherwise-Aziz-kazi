{
  "cells": [
    {
      "cell_type": "markdown",
      "metadata": {
        "id": "view-in-github",
        "colab_type": "text"
      },
      "source": [
        "<a href=\"https://colab.research.google.com/github/AzizKazi/weatherwise-Aziz-kazi/blob/main/starter_notebook.ipynb\" target=\"_parent\"><img src=\"https://colab.research.google.com/assets/colab-badge.svg\" alt=\"Open In Colab\"/></a>"
      ]
    },
    {
      "cell_type": "code",
      "execution_count": 16,
      "id": "70c3f3f1",
      "metadata": {
        "id": "70c3f3f1",
        "outputId": "64714323-fd1d-4243-c17d-f41ca2d653f2",
        "colab": {
          "base_uri": "https://localhost:8080/"
        }
      },
      "outputs": [
        {
          "output_type": "stream",
          "name": "stdout",
          "text": [
            "Requirement already satisfied: pyinputplus in /usr/local/lib/python3.12/dist-packages (0.2.12)\n",
            "Requirement already satisfied: matplotlib in /usr/local/lib/python3.12/dist-packages (3.10.0)\n",
            "Requirement already satisfied: requests in /usr/local/lib/python3.12/dist-packages (2.32.4)\n",
            "Requirement already satisfied: pysimplevalidate>=0.2.7 in /usr/local/lib/python3.12/dist-packages (from pyinputplus) (0.2.12)\n",
            "Requirement already satisfied: stdiomask>=0.0.3 in /usr/local/lib/python3.12/dist-packages (from pyinputplus) (0.0.6)\n",
            "Requirement already satisfied: contourpy>=1.0.1 in /usr/local/lib/python3.12/dist-packages (from matplotlib) (1.3.3)\n",
            "Requirement already satisfied: cycler>=0.10 in /usr/local/lib/python3.12/dist-packages (from matplotlib) (0.12.1)\n",
            "Requirement already satisfied: fonttools>=4.22.0 in /usr/local/lib/python3.12/dist-packages (from matplotlib) (4.60.1)\n",
            "Requirement already satisfied: kiwisolver>=1.3.1 in /usr/local/lib/python3.12/dist-packages (from matplotlib) (1.4.9)\n",
            "Requirement already satisfied: numpy>=1.23 in /usr/local/lib/python3.12/dist-packages (from matplotlib) (2.0.2)\n",
            "Requirement already satisfied: packaging>=20.0 in /usr/local/lib/python3.12/dist-packages (from matplotlib) (25.0)\n",
            "Requirement already satisfied: pillow>=8 in /usr/local/lib/python3.12/dist-packages (from matplotlib) (11.3.0)\n",
            "Requirement already satisfied: pyparsing>=2.3.1 in /usr/local/lib/python3.12/dist-packages (from matplotlib) (3.2.5)\n",
            "Requirement already satisfied: python-dateutil>=2.7 in /usr/local/lib/python3.12/dist-packages (from matplotlib) (2.9.0.post0)\n",
            "Requirement already satisfied: charset_normalizer<4,>=2 in /usr/local/lib/python3.12/dist-packages (from requests) (3.4.3)\n",
            "Requirement already satisfied: idna<4,>=2.5 in /usr/local/lib/python3.12/dist-packages (from requests) (3.10)\n",
            "Requirement already satisfied: urllib3<3,>=1.21.1 in /usr/local/lib/python3.12/dist-packages (from requests) (2.5.0)\n",
            "Requirement already satisfied: certifi>=2017.4.17 in /usr/local/lib/python3.12/dist-packages (from requests) (2025.10.5)\n",
            "Requirement already satisfied: six>=1.5 in /usr/local/lib/python3.12/dist-packages (from python-dateutil>=2.7->matplotlib) (1.17.0)\n"
          ]
        }
      ],
      "source": [
        "!pip install pyinputplus matplotlib requests"
      ]
    },
    {
      "cell_type": "markdown",
      "id": "59ae7543",
      "metadata": {
        "id": "59ae7543"
      },
      "source": [
        "\n",
        "Import required packages"
      ]
    },
    {
      "cell_type": "code",
      "execution_count": 17,
      "id": "f1dd051e",
      "metadata": {
        "id": "f1dd051e"
      },
      "outputs": [],
      "source": [
        "import os\n",
        "import requests\n",
        "import matplotlib.pyplot as plt\n",
        "import pyinputplus as pyip"
      ]
    },
    {
      "cell_type": "markdown",
      "id": "f736ade3",
      "metadata": {
        "id": "f736ade3"
      },
      "source": [
        "## 🌤️ Weather Data Functions to fetch weather details\n"
      ]
    },
    {
      "cell_type": "code",
      "execution_count": 20,
      "id": "7a2c7cd0",
      "metadata": {
        "id": "7a2c7cd0"
      },
      "outputs": [],
      "source": [
        "def fetch_weather_for_city(city_name, num_forecast_days=3):\n",
        "    \"\"\"\n",
        "    Fetches weather data for a specific city and number of forecast days.\n",
        "    - Constructs the API URL using the city_name, e.g., \"Sydney\".\n",
        "    - num_forecast_days determines how many days of forecast data to retrieve.\n",
        "    - Sends a GET request to wttr.in and parses the JSON response.\n",
        "    \"\"\"\n",
        "    api_endpoint = f\"https://wttr.in/Sydney?format=j1\"\n",
        "    try:\n",
        "        http_response = requests.get(api_endpoint)\n",
        "        http_response.raise_for_status()\n",
        "        weather_json = http_response.json()\n",
        "        weather_json['weather'] = weather_json['weather'][:num_forecast_days]\n",
        "        return weather_json\n",
        "    except Exception as exception:\n",
        "        print(f\"Error occurred while fetching weather data: {exception}\")\n",
        "        return None"
      ]
    },
    {
      "cell_type": "markdown",
      "source": [
        "Analyzing the key data in json format"
      ],
      "metadata": {
        "id": "CCRuyqzgHIj0"
      },
      "id": "CCRuyqzgHIj0"
    },
    {
      "cell_type": "code",
      "source": [
        "weather_data = get_weather_data(forecast_days=3)\n",
        "if weather_data:\n",
        "    print(weather_data.keys())\n",
        "else:\n",
        "    print(\"No weather data received.\")"
      ],
      "metadata": {
        "id": "X2y2bfqFHKK7",
        "outputId": "4bfbba5c-62f6-4b95-d997-64e907865fda",
        "colab": {
          "base_uri": "https://localhost:8080/"
        }
      },
      "id": "X2y2bfqFHKK7",
      "execution_count": 19,
      "outputs": [
        {
          "output_type": "stream",
          "name": "stdout",
          "text": [
            "dict_keys(['current_condition', 'nearest_area', 'request', 'weather'])\n"
          ]
        }
      ]
    },
    {
      "cell_type": "markdown",
      "id": "8a744fdc",
      "metadata": {
        "id": "8a744fdc"
      },
      "source": [
        "## 📊 Visualisation Functions"
      ]
    },
    {
      "cell_type": "markdown",
      "source": [
        "function to display maximum and minimum temperature"
      ],
      "metadata": {
        "id": "KMT1M0ChLKnL"
      },
      "id": "KMT1M0ChLKnL"
    },
    {
      "cell_type": "code",
      "execution_count": 10,
      "id": "9dc3bf85",
      "metadata": {
        "id": "9dc3bf85"
      },
      "outputs": [],
      "source": [
        "def plot_temperature_trends(sydney_weather, display_mode='display'):\n",
        "    \"\"\"\n",
        "    Visualize Sydney's temperature trends based on the provided weather data.\n",
        "\n",
        "    - sydney_weather: dictionary containing 'weather' list from fetch_weather_for_city() function.\n",
        "    - display_mode: either 'display' to show the plot immediately or 'figure' to return the figure object.\n",
        "    \"\"\"\n",
        "    date_list = []\n",
        "    max_temperature_values = []\n",
        "    min_temperature_values = []\n",
        "\n",
        "    for daily_record in sydney_weather['weather']:\n",
        "        date_list.append(daily_record['date'])\n",
        "        max_temperature_values.append(float(daily_record['maxtempC']))\n",
        "        min_temperature_values.append(float(daily_record['mintempC']))\n",
        "\n",
        "    fig, axis = plt.subplots()\n",
        "    axis.plot(date_list, max_temperature_values, label='Max Temp (°C)', marker='o')\n",
        "    axis.plot(date_list, min_temperature_values, label='Min Temp (°C)', marker='o')\n",
        "    axis.set_title('Sydney Temperature Trends')\n",
        "    axis.set_xlabel('Date')\n",
        "    axis.set_ylabel('Temperature (°C)')\n",
        "    axis.legend()\n",
        "    plt.grid(True)\n",
        "\n",
        "    if display_mode == 'figure':\n",
        "        return fig\n",
        "    else:\n",
        "        plt.show(block=False)\n",
        "        plt.pause(0.001)"
      ]
    },
    {
      "cell_type": "code",
      "source": [
        "def plot_precipitation_trends(sydney_weather, display_mode='display'):\n",
        "    \"\"\"\n",
        "    Visualize Sydney's precipitation trends based on the provided weather data.\n",
        "\n",
        "    - sydney_weather: dictionary containing 'weather' list from fetch_weather_for_city() function.\n",
        "    - display_mode: either 'display' to show the plot immediately or 'figure' to return the figure object.\n",
        "    \"\"\"\n",
        "    date_list = []\n",
        "    daily_precipitation_totals = []\n",
        "\n",
        "    for daily_record in sydney_weather['weather']:\n",
        "        date_list.append(daily_record['date'])\n",
        "        # Calculate total precipitation by summing hourly precipitation values\n",
        "        total_daily_precip = sum(float(hourly_data['precipMM']) for hourly_data in daily_record['hourly'])\n",
        "        daily_precipitation_totals.append(total_daily_precip)\n",
        "\n",
        "    fig, axis = plt.subplots()\n",
        "    axis.bar(date_list, daily_precipitation_totals, color='skyblue')\n",
        "    axis.set_title('Sydney Precipitation Trends')\n",
        "    axis.set_xlabel('Date')\n",
        "    axis.set_ylabel('Precipitation (mm)')\n",
        "    plt.grid(True)\n",
        "\n",
        "    if display_mode == 'figure':\n",
        "        return fig\n",
        "    else:\n",
        "        plt.show(block=False)\n",
        "        plt.pause(0.001)"
      ],
      "metadata": {
        "id": "HpOlQylYG5Ho"
      },
      "id": "HpOlQylYG5Ho",
      "execution_count": 11,
      "outputs": []
    },
    {
      "cell_type": "code",
      "source": [
        "def plot_temp_humidity_combo(weather_data):\n",
        "    days = [day['date'] for day in weather_data['weather']]\n",
        "    max_temps = [int(day['maxtempC']) for day in weather_data['weather']]\n",
        "    avg_humidity = [sum(float(hr['humidity']) for hr in day['hourly']) / len(day['hourly']) for day in weather_data['weather']]\n",
        "\n",
        "    fig, ax1 = plt.subplots(figsize=(8, 5))\n",
        "    ax1.bar(days, avg_humidity, color='skyblue', alpha=0.6, label='Avg Humidity (%)')\n",
        "    ax1.set_ylabel('Average Humidity (%)', color='blue')\n",
        "\n",
        "    ax2 = ax1.twinx()\n",
        "    ax2.plot(days, max_temps, color='red', marker='o', label='Max Temp (°C)')\n",
        "    ax2.set_ylabel('Temperature (°C)', color='red')\n",
        "\n",
        "    plt.title(\"Daily Average Humidity vs. Max Temperature\")\n",
        "    fig.tight_layout()\n",
        "    plt.show(block=False)\n",
        "    plt.pause(0.001)"
      ],
      "metadata": {
        "id": "cwQ9PgkHTHjP"
      },
      "id": "cwQ9PgkHTHjP",
      "execution_count": null,
      "outputs": []
    },
    {
      "cell_type": "markdown",
      "id": "9f95d160",
      "metadata": {
        "id": "9f95d160"
      },
      "source": [
        "## 🤖 Natural Language Processing"
      ]
    },
    {
      "cell_type": "code",
      "execution_count": 12,
      "id": "bcc5833e",
      "metadata": {
        "id": "bcc5833e"
      },
      "outputs": [],
      "source": [
        "def extract_weather_query_components(user_question):\n",
        "    \"\"\"\n",
        "    Extract key components from a natural language weather question:\n",
        "    location, attribute, and time period.\n",
        "\n",
        "    - Defaults location to 'Sydney' if not specified.\n",
        "    - Recognizes attributes like temperature, rain, precipitation, humidity, wind.\n",
        "    - Recognizes time periods: today, tomorrow, day after tomorrow.\n",
        "    \"\"\"\n",
        "    question_text = user_question.lower()\n",
        "    possible_attributes = ['temperature', 'rain', 'precipitation', 'humidity', 'wind']\n",
        "    possible_time_periods = ['today', 'tomorrow', 'day after tomorrow']\n",
        "\n",
        "    found_attribute = None\n",
        "    found_time_period = 'today'\n",
        "    found_location = 'Sydney'\n",
        "\n",
        "    for attribute in possible_attributes:\n",
        "        if attribute in question_text:\n",
        "            found_attribute = attribute\n",
        "            break\n",
        "\n",
        "    for time_period in possible_time_periods:\n",
        "        if time_period in question_text:\n",
        "            found_time_period = time_period\n",
        "            break\n",
        "\n",
        "    words = question_text.split()\n",
        "    if 'in' in words:\n",
        "        index_of_in = words.index('in')\n",
        "        if index_of_in + 1 < len(words):\n",
        "            found_location = ' '.join(words[index_of_in + 1:]).strip()\n",
        "\n",
        "    return {\n",
        "        'location': found_location,\n",
        "        'attribute': found_attribute,\n",
        "        'time_period': found_time_period\n",
        "    }"
      ]
    },
    {
      "cell_type": "markdown",
      "id": "d643a53c",
      "metadata": {
        "id": "d643a53c"
      },
      "source": [
        "## 🧩 Main Application Logic"
      ]
    },
    {
      "cell_type": "code",
      "execution_count": 14,
      "id": "a9e2e805",
      "metadata": {
        "id": "a9e2e805"
      },
      "outputs": [],
      "source": [
        "# Tie everything together here\n",
        "def formulate_weather_reply(parsed_input, sydney_weather_data):\n",
        "    \"\"\"\n",
        "    Generate a natural language weather response based on parsed input and Sydney weather data.\n",
        "\n",
        "    Args:\n",
        "        parsed_input (dict): Contains keys 'location', 'attribute', 'time_period'\n",
        "        sydney_weather_data (dict): Weather forecast data for Sydney\n",
        "\n",
        "    Returns:\n",
        "        str: Formulated response string\n",
        "    \"\"\"\n",
        "    city = parsed_input['location']\n",
        "    weather_feature = parsed_input['attribute']\n",
        "    forecast_day = parsed_input['time_period']\n",
        "\n",
        "    day_index = 0\n",
        "    if forecast_day == 'tomorrow':\n",
        "        day_index = 1\n",
        "    elif forecast_day == 'day after tomorrow':\n",
        "        day_index = 2\n",
        "\n",
        "    try:\n",
        "        forecast_for_day = sydney_weather_data['weather'][day_index]\n",
        "\n",
        "        if weather_feature in ['temperature', None]:\n",
        "            max_temperature = forecast_for_day['maxtempC']\n",
        "            min_temperature = forecast_for_day['mintempC']\n",
        "            return f\"In {city.title()} on {forecast_for_day['date']}, the temperature will range from {min_temperature}°C to {max_temperature}°C.\"\n",
        "\n",
        "        elif weather_feature in ['rain', 'precipitation']:\n",
        "            total_precipitation = sum(float(hour['precipMM']) for hour in forecast_for_day['hourly'])\n",
        "            return f\"In {city.title()} on {forecast_for_day['date']}, the total precipitation will be {total_precipitation:.1f} mm.\"\n",
        "\n",
        "        elif weather_feature == 'humidity':\n",
        "            humidity_value = forecast_for_day['hourly'][0]['humidity']\n",
        "            return f\"In {city.title()} on {forecast_for_day['date']}, the humidity will be {humidity_value}%.\"\n",
        "\n",
        "        elif weather_feature == 'wind':\n",
        "            wind_speed = forecast_for_day['hourly'][0]['windspeedKmph']\n",
        "            return f\"In {city.title()} on {forecast_for_day['date']}, the wind speed will be {wind_speed} km/h.\"\n",
        "\n",
        "        else:\n",
        "            return \"Sorry, I couldn't understand the weather attribute you asked for.\"\n",
        "\n",
        "    except Exception as error:\n",
        "        return f\"Sorry, I couldn't retrieve the weather information: {error}\""
      ]
    },
    {
      "cell_type": "markdown",
      "id": "0d85225e",
      "metadata": {
        "id": "0d85225e"
      },
      "source": [
        "## 🧭 User Interface"
      ]
    },
    {
      "cell_type": "code",
      "execution_count": 13,
      "id": "fa6cb0f6",
      "metadata": {
        "id": "fa6cb0f6"
      },
      "outputs": [],
      "source": [
        "# Define menu functions using pyinputplus or ipywidgets here"
      ]
    },
    {
      "cell_type": "markdown",
      "id": "fde44479",
      "metadata": {
        "id": "fde44479"
      },
      "source": [
        "## 🧪 Testing and Examples"
      ]
    },
    {
      "cell_type": "code",
      "execution_count": 15,
      "id": "4e573901",
      "metadata": {
        "id": "4e573901"
      },
      "outputs": [],
      "source": [
        "# Include sample input/output for each function"
      ]
    },
    {
      "cell_type": "markdown",
      "id": "d2885880",
      "metadata": {
        "id": "d2885880"
      },
      "source": [
        "## 🗂️ AI Prompting Log (Optional)\n",
        "Add markdown cells here summarising prompts used or link to AI conversations in the `ai-conversations/` folder."
      ]
    }
  ],
  "metadata": {
    "language_info": {
      "name": "python"
    },
    "colab": {
      "provenance": [],
      "include_colab_link": true
    },
    "kernelspec": {
      "name": "python3",
      "display_name": "Python 3"
    }
  },
  "nbformat": 4,
  "nbformat_minor": 5
}